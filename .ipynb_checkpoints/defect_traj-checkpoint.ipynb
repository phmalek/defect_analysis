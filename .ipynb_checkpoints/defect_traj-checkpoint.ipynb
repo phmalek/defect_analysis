{
 "cells": [
  {
   "cell_type": "code",
   "execution_count": 1,
   "metadata": {},
   "outputs": [],
   "source": [
    "import sys\n",
    "import os\n",
    "import gsd.hoomd\n",
    "#path = \"/Volumes/ALI/postdoc_project/active_nematics_defect/workspace/8c9bf534ce845303a1fb6c3ebedbbeb5\"\n",
    "path = \"/Volumes/ALI/postdoc_project/active_nematics_defect/workspace/d82dcfb8fa035ed672d32d1bbfb85b74\"\n",
    "import numpy as np"
   ]
  },
  {
   "cell_type": "code",
   "execution_count": 2,
   "metadata": {},
   "outputs": [],
   "source": [
    "sys.path.append(\"./utils\")\n",
    "import util"
   ]
  },
  {
   "cell_type": "code",
   "execution_count": 3,
   "metadata": {},
   "outputs": [
    {
     "data": {
      "text/plain": [
       "<module 'util' from './utils/util.py'>"
      ]
     },
     "execution_count": 3,
     "metadata": {},
     "output_type": "execute_result"
    }
   ],
   "source": [
    "from importlib import reload\n",
    "reload(util)"
   ]
  },
  {
   "cell_type": "code",
   "execution_count": 10,
   "metadata": {},
   "outputs": [],
   "source": [
    "import gsd.hoomd\n",
    "#s = gsd.hoomd.open(name = os.path.join(path, \"trajectory.gsd\"), mode=\"rb\")\n",
    "#s = gsd.hoomd.open(name=\"test_data/new_small_file.gsd\", mode=\"wb\")\n",
    "t = gsd.hoomd.open(name=os.path.join(path,\"trajectory.gsd\"), mode=\"rb\")\n",
    "s = gsd.hoomd.open(name=\"../test_data/small_file.gsd\", mode=\"wb\")\n",
    "s.extend(t[500:600])\n",
    "#s = gsd.hoomd.open(name=\"new_small_file.gsd\", mode=\"rb\")"
   ]
  },
  {
   "cell_type": "code",
   "execution_count": 11,
   "metadata": {},
   "outputs": [],
   "source": [
    "#s = gsd.hoomd.open(name=\"../test_data/new_small_file.gsd\", mode=\"rb\")\n",
    "s = gsd.hoomd.open(name=\"../test_data/small_file.gsd\", mode=\"rb\")"
   ]
  },
  {
   "cell_type": "code",
   "execution_count": 12,
   "metadata": {},
   "outputs": [
    {
     "data": {
      "text/plain": [
       "100"
      ]
     },
     "execution_count": 12,
     "metadata": {},
     "output_type": "execute_result"
    }
   ],
   "source": [
    "len(s)"
   ]
  },
  {
   "cell_type": "code",
   "execution_count": 13,
   "metadata": {},
   "outputs": [
    {
     "name": "stderr",
     "output_type": "stream",
     "text": [
      "/Users/ali/anaconda3/envs/active_nematics/lib/python3.7/site-packages/ipykernel_launcher.py:6: UserWarning: Specifying z-dimensions in a 2-dimensional box has no effect!\n",
      "  \n",
      "./utils/util.py:102: UserWarning: Specifying z-dimensions in a 2-dimensional box has no effect!\n",
      "  self.box = freud.box.Box.from_box(snap.configuration.box, dimensions=2)\n"
     ]
    }
   ],
   "source": [
    "\n",
    "sys.path.append(\"/Volumes/ALI/Postdoc_Project/data_analysis/freud\")\n",
    "import freud\n",
    "\n",
    "snap = s[-1]\n",
    "box = freud.box.Box.from_box(snap.configuration.box, dimensions=2)\n",
    "\n",
    "\n",
    "cell_size = 3\n",
    "r_nlist = 4\n",
    "p_per_cell = 10\n",
    "r_cl = 3\n",
    "min_angle = 70./180.*np.pi\n",
    "slice_no = 8\n",
    "\n",
    "neigh_density = 1.\n",
    "neigh_area = np.pi*(r_nlist**2)\n",
    "count = int(neigh_density * neigh_area)\n",
    "\n",
    "defect = util.defect(snap, cell_size, r_cl, slice_no,min_angle)"
   ]
  },
  {
   "cell_type": "code",
   "execution_count": 14,
   "metadata": {},
   "outputs": [
    {
     "data": {
      "application/vnd.jupyter.widget-view+json": {
       "model_id": "af2561bbbdf64812bfe351077a2ac92c",
       "version_major": 2,
       "version_minor": 0
      },
      "text/plain": [
       "HBox(children=(IntProgress(value=0), HTML(value='')))"
      ]
     },
     "metadata": {},
     "output_type": "display_data"
    },
    {
     "name": "stdout",
     "output_type": "stream",
     "text": [
      "\n"
     ]
    }
   ],
   "source": [
    "from tqdm import tqdm_notebook as tqdm\n",
    "folder_name = \"slice_no_{}\".format(slice_no)\n",
    "data_folder = os.path.join(\"../test_data\", folder_name)\n",
    "if not os.path.exists(data_folder):\n",
    "    os.mkdir(data_folder)\n",
    "import numpy as np\n",
    "from xyz import *\n",
    "for i in tqdm(range(len(s))):\n",
    "    snap = s[i]\n",
    "    tags_p, tags_m = defect.snap_find_tags(snap, r_nlist, p_per_cell, count)\n",
    "    fname_p = \"defect_p_{}.xyz\".format(i)\n",
    "    fname_m = \"defect_m_{}.xyz\".format(i)\n",
    "    write_xyz(open(os.path.join(data_folder,fname_p),\"w\"),defect.defect_position(snap,tags_p, 3), \"P\")\n",
    "    write_xyz(open(os.path.join(data_folder,fname_m),\"w\"),defect.defect_position(snap,tags_m, 3), \"M\")"
   ]
  },
  {
   "cell_type": "code",
   "execution_count": 16,
   "metadata": {},
   "outputs": [],
   "source": [
    "import sys\n",
    "sys.path.append(\"utils/\")\n",
    "from track import *\n",
    "from xyz import *\n",
    "import os\n",
    "import glob\n",
    "path_folder = \"../test_data/slice_no_8\"\n",
    "\n",
    "snap_No = int(len(glob.glob(os.path.join(path_folder,\"*.xyz\")))/2)\n",
    "snap_No\n",
    "\n",
    "frames_p = []\n",
    "frames_m = []\n",
    "\n",
    "for i in range(snap_No):\n",
    "    xyz = read_xyz(open(\"../test_data/slice_no_8/defect_p_{}.xyz\".format(i),\"r\"))\n",
    "    frames_p.append(snap_to_trackpy(xyz.coords, i))\n",
    "    xyz = read_xyz(open(\"../test_data/slice_no_8/defect_m_{}.xyz\".format(i),\"r\"))\n",
    "    frames_m.append(snap_to_trackpy(xyz.coords, i))"
   ]
  },
  {
   "cell_type": "code",
   "execution_count": 17,
   "metadata": {},
   "outputs": [
    {
     "data": {
      "text/html": [
       "<div>\n",
       "<style scoped>\n",
       "    .dataframe tbody tr th:only-of-type {\n",
       "        vertical-align: middle;\n",
       "    }\n",
       "\n",
       "    .dataframe tbody tr th {\n",
       "        vertical-align: top;\n",
       "    }\n",
       "\n",
       "    .dataframe thead th {\n",
       "        text-align: right;\n",
       "    }\n",
       "</style>\n",
       "<table border=\"1\" class=\"dataframe\">\n",
       "  <thead>\n",
       "    <tr style=\"text-align: right;\">\n",
       "      <th></th>\n",
       "      <th>x</th>\n",
       "      <th>y</th>\n",
       "      <th>frame</th>\n",
       "    </tr>\n",
       "  </thead>\n",
       "  <tbody>\n",
       "    <tr>\n",
       "      <th>0</th>\n",
       "      <td>-84.790672</td>\n",
       "      <td>8.342049</td>\n",
       "      <td>0</td>\n",
       "    </tr>\n",
       "    <tr>\n",
       "      <th>1</th>\n",
       "      <td>-96.421349</td>\n",
       "      <td>16.033165</td>\n",
       "      <td>0</td>\n",
       "    </tr>\n",
       "    <tr>\n",
       "      <th>2</th>\n",
       "      <td>-13.463783</td>\n",
       "      <td>45.416664</td>\n",
       "      <td>0</td>\n",
       "    </tr>\n",
       "    <tr>\n",
       "      <th>3</th>\n",
       "      <td>85.880104</td>\n",
       "      <td>44.643654</td>\n",
       "      <td>0</td>\n",
       "    </tr>\n",
       "    <tr>\n",
       "      <th>4</th>\n",
       "      <td>-66.346466</td>\n",
       "      <td>47.007393</td>\n",
       "      <td>0</td>\n",
       "    </tr>\n",
       "  </tbody>\n",
       "</table>\n",
       "</div>"
      ],
      "text/plain": [
       "           x          y  frame\n",
       "0 -84.790672   8.342049      0\n",
       "1 -96.421349  16.033165      0\n",
       "2 -13.463783  45.416664      0\n",
       "3  85.880104  44.643654      0\n",
       "4 -66.346466  47.007393      0"
      ]
     },
     "execution_count": 17,
     "metadata": {},
     "output_type": "execute_result"
    }
   ],
   "source": [
    "frames_m[0].head()"
   ]
  },
  {
   "cell_type": "code",
   "execution_count": 18,
   "metadata": {},
   "outputs": [
    {
     "name": "stdout",
     "output_type": "stream",
     "text": [
      "Frame 99: 18 trajectories present.\n"
     ]
    }
   ],
   "source": [
    "import trackpy\n",
    "import pandas\n",
    "tr_p = pandas.concat(trackpy.link_df_iter(frames_p, 5))\n",
    "tr_m = pandas.concat(trackpy.link_df_iter(frames_m, 5))"
   ]
  },
  {
   "cell_type": "code",
   "execution_count": 29,
   "metadata": {},
   "outputs": [
    {
     "data": {
      "text/plain": [
       "(-134.73346366882325,\n",
       " 134.68035545349122,\n",
       " -134.75861701965331,\n",
       " 134.76680335998535)"
      ]
     },
     "execution_count": 29,
     "metadata": {},
     "output_type": "execute_result"
    },
    {
     "data": {
      "image/png": "[encoded data removed]",
      "text/plain": [
       "<Figure size 1080x504 with 2 Axes>"
      ]
     },
     "metadata": {
      "needs_background": "light"
     },
     "output_type": "display_data"
    }
   ],
   "source": [
    "import matplotlib.pyplot as plt\n",
    "\n",
    "f, ax = plt.subplots(1,2,figsize=(15,7))\n",
    "trackpy.plot_traj(tr_p, ax=ax[0])\n",
    "trackpy.plot_traj(tr_m, ax=ax[1])\n",
    "ax[0].set_ylim([-100,100])\n",
    "ax[1].set_ylim([-100,100])\n",
    "ax[0].axis('equal')\n",
    "ax[1].axis('equal')"
   ]
  },
  {
   "cell_type": "code",
   "execution_count": 84,
   "metadata": {},
   "outputs": [],
   "source": [
    "msd_p = trackpy.imsd(tr_p,1,1)"
   ]
  },
  {
   "cell_type": "code",
   "execution_count": 130,
   "metadata": {},
   "outputs": [],
   "source": [
    "msd_m = trackpy.imsd(tr_m,1,1)"
   ]
  },
  {
   "cell_type": "code",
   "execution_count": 131,
   "metadata": {},
   "outputs": [
    {
     "data": {
      "text/plain": [
       "Float64Index([ 1.0,  2.0,  3.0,  4.0,  5.0,  6.0,  7.0,  8.0,  9.0, 10.0, 11.0,\n",
       "              12.0, 13.0, 14.0, 15.0, 16.0, 17.0, 18.0, 19.0, 20.0, 21.0, 22.0,\n",
       "              23.0, 24.0, 25.0, 26.0, 27.0, 28.0, 29.0, 30.0, 31.0, 32.0, 33.0,\n",
       "              34.0, 35.0, 36.0, 37.0, 38.0, 39.0, 40.0, 41.0, 42.0, 43.0, 44.0,\n",
       "              45.0, 46.0, 47.0, 48.0, 49.0, 50.0, 51.0, 52.0],\n",
       "             dtype='float64', name='lag time [s]')"
      ]
     },
     "execution_count": 131,
     "metadata": {},
     "output_type": "execute_result"
    }
   ],
   "source": [
    "msd_m.index"
   ]
  },
  {
   "cell_type": "code",
   "execution_count": 61,
   "metadata": {},
   "outputs": [
    {
     "data": {
      "text/plain": [
       "<matplotlib.collections.PathCollection at 0x13b9d4b00>"
      ]
     },
     "execution_count": 61,
     "metadata": {},
     "output_type": "execute_result"
    },
    {
     "data": {
      "image/png": "[encoded data removed]",
      "text/plain": [
       "<Figure size 432x288 with 2 Axes>"
      ]
     },
     "metadata": {
      "needs_background": "light"
     },
     "output_type": "display_data"
    }
   ],
   "source": [
    "f, ax = plt.subplots(1,2)\n",
    "ax[0].loglog(msd_p.index, msd_p[1], marker='o')\n",
    "ax[1].scatter(msd_m.index, msd_m[8], marker='o')"
   ]
  },
  {
   "cell_type": "code",
   "execution_count": 80,
   "metadata": {},
   "outputs": [],
   "source": [
    "lengths_p = []\n",
    "for c in msd_p.columns:\n",
    "    sr = lengths.append(len(msd_p[c].dropna())) "
   ]
  },
  {
   "cell_type": "code",
   "execution_count": 81,
   "metadata": {},
   "outputs": [],
   "source": [
    "lengths_m = []\n",
    "for c in msd_m.columns:\n",
    "    lengths.append(len(msd_m[c].dropna())) "
   ]
  },
  {
   "cell_type": "code",
   "execution_count": 82,
   "metadata": {},
   "outputs": [],
   "source": [
    "lengths_p = np.array(lengths_p)\n",
    "lengths_m = np.array(lengths_m)"
   ]
  },
  {
   "cell_type": "code",
   "execution_count": 120,
   "metadata": {},
   "outputs": [],
   "source": [
    "x = msd_p[1].dropna()\n",
    "x.dropna()\n",
    "t = np.array(x.index).reshape(-1,1)\n",
    "msd = np.array(x.values).reshape(-1,1)"
   ]
  },
  {
   "cell_type": "code",
   "execution_count": 124,
   "metadata": {},
   "outputs": [
    {
     "data": {
      "text/plain": [
       "LinearRegression(copy_X=True, fit_intercept=True, n_jobs=None, normalize=False)"
      ]
     },
     "execution_count": 124,
     "metadata": {},
     "output_type": "execute_result"
    }
   ],
   "source": [
    "from sklearn import linear_model\n",
    "regr = linear_model.LinearRegression()\n",
    "regr.fit(np.log(t),np.log(msd))"
   ]
  },
  {
   "cell_type": "code",
   "execution_count": 125,
   "metadata": {},
   "outputs": [
    {
     "data": {
      "text/plain": [
       "array([[1.66343355]])"
      ]
     },
     "execution_count": 125,
     "metadata": {},
     "output_type": "execute_result"
    }
   ],
   "source": [
    "regr.coef_"
   ]
  },
  {
   "cell_type": "code",
   "execution_count": 126,
   "metadata": {},
   "outputs": [],
   "source": [
    "from sklearn import linear_model\n",
    "import math\n",
    "regr = linear_model.LinearRegression()\n",
    "shortest_traj=20\n",
    "df_p_fit = pd.DataFrame(columns = msd_p.columns, index = ['fit_slope'])\n",
    "for c in msd_p.columns:\n",
    "    if msd_p[c].count()>=shortest_traj:\n",
    "        s = msd_p[c].dropna()\n",
    "        t = np.array(s.index).reshape(-1,1)\n",
    "        msd = np.array(s.values).reshape(-1,1)\n",
    "        regr.fit(np.log(t), np.log(msd))\n",
    "        df_p_fit[c] = regr.coef_"
   ]
  },
  {
   "cell_type": "code",
   "execution_count": 135,
   "metadata": {},
   "outputs": [],
   "source": [
    "shortest_traj = 10\n",
    "df_m_fit = pd.DataFrame(columns = msd_m.columns, index = ['fit_slope'])\n",
    "for c in msd_m.columns:\n",
    "    if msd_m[c].count()>=shortest_traj:\n",
    "        s = msd_m[c].dropna()\n",
    "        t = np.array(s.index).reshape(-1,1)\n",
    "        msd = np.array(s.values).reshape(-1,1)\n",
    "        regr.fit(np.log(t), np.log(msd))\n",
    "        df_m_fit[c] = regr.coef_"
   ]
  },
  {
   "cell_type": "code",
   "execution_count": 136,
   "metadata": {},
   "outputs": [
    {
     "data": {
      "text/html": [
       "<div>\n",
       "<style scoped>\n",
       "    .dataframe tbody tr th:only-of-type {\n",
       "        vertical-align: middle;\n",
       "    }\n",
       "\n",
       "    .dataframe tbody tr th {\n",
       "        vertical-align: top;\n",
       "    }\n",
       "\n",
       "    .dataframe thead th {\n",
       "        text-align: right;\n",
       "    }\n",
       "</style>\n",
       "<table border=\"1\" class=\"dataframe\">\n",
       "  <thead>\n",
       "    <tr style=\"text-align: right;\">\n",
       "      <th></th>\n",
       "      <th>1</th>\n",
       "      <th>2</th>\n",
       "      <th>3</th>\n",
       "      <th>4</th>\n",
       "      <th>6</th>\n",
       "      <th>8</th>\n",
       "      <th>10</th>\n",
       "      <th>12</th>\n",
       "      <th>15</th>\n",
       "      <th>16</th>\n",
       "      <th>...</th>\n",
       "      <th>473</th>\n",
       "      <th>477</th>\n",
       "      <th>480</th>\n",
       "      <th>483</th>\n",
       "      <th>487</th>\n",
       "      <th>489</th>\n",
       "      <th>492</th>\n",
       "      <th>493</th>\n",
       "      <th>495</th>\n",
       "      <th>496</th>\n",
       "    </tr>\n",
       "  </thead>\n",
       "  <tbody>\n",
       "    <tr>\n",
       "      <th>fit_slope</th>\n",
       "      <td>NaN</td>\n",
       "      <td>NaN</td>\n",
       "      <td>NaN</td>\n",
       "      <td>NaN</td>\n",
       "      <td>1.426242</td>\n",
       "      <td>NaN</td>\n",
       "      <td>NaN</td>\n",
       "      <td>NaN</td>\n",
       "      <td>NaN</td>\n",
       "      <td>1.787324</td>\n",
       "      <td>...</td>\n",
       "      <td>NaN</td>\n",
       "      <td>NaN</td>\n",
       "      <td>NaN</td>\n",
       "      <td>NaN</td>\n",
       "      <td>NaN</td>\n",
       "      <td>NaN</td>\n",
       "      <td>NaN</td>\n",
       "      <td>NaN</td>\n",
       "      <td>NaN</td>\n",
       "      <td>NaN</td>\n",
       "    </tr>\n",
       "  </tbody>\n",
       "</table>\n",
       "<p>1 rows × 219 columns</p>\n",
       "</div>"
      ],
      "text/plain": [
       "           1    2    3    4         6    8    10   12   15        16  ...   \\\n",
       "fit_slope  NaN  NaN  NaN  NaN  1.426242  NaN  NaN  NaN  NaN  1.787324 ...    \n",
       "\n",
       "           473  477  480  483  487  489  492  493  495  496  \n",
       "fit_slope  NaN  NaN  NaN  NaN  NaN  NaN  NaN  NaN  NaN  NaN  \n",
       "\n",
       "[1 rows x 219 columns]"
      ]
     },
     "execution_count": 136,
     "metadata": {},
     "output_type": "execute_result"
    }
   ],
   "source": [
    "df_m_fit"
   ]
  }
 ],
 "metadata": {
  "kernelspec": {
   "display_name": "Python 3",
   "language": "python",
   "name": "python3"
  },
  "language_info": {
   "codemirror_mode": {
    "name": "ipython",
    "version": 3
   },
   "file_extension": ".py",
   "mimetype": "text/x-python",
   "name": "python",
   "nbconvert_exporter": "python",
   "pygments_lexer": "ipython3",
   "version": "3.7.3"
  }
 },
 "nbformat": 4,
 "nbformat_minor": 2
}
