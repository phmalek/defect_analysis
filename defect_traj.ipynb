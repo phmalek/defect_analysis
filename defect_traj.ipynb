{
 "cells": [
  {
   "cell_type": "code",
   "execution_count": 146,
   "metadata": {},
   "outputs": [],
   "source": [
    "import sys\n",
    "import os\n",
    "import gsd.hoomd\n",
    "#path = \"/Volumes/ALI/postdoc_project/active_nematics_defect/workspace/8c9bf534ce845303a1fb6c3ebedbbeb5\"\n",
    "path = \"/Volumes/ALI/postdoc_project/active_nematics_defect/workspace/d82dcfb8fa035ed672d32d1bbfb85b74\"\n",
    "import numpy as np"
   ]
  },
  {
   "cell_type": "code",
   "execution_count": 147,
   "metadata": {},
   "outputs": [],
   "source": [
    "sys.path.append(\"./utils\")\n",
    "import util"
   ]
  },
  {
   "cell_type": "code",
   "execution_count": 148,
   "metadata": {},
   "outputs": [
    {
     "data": {
      "text/plain": [
       "<module 'util' from './utils/util.py'>"
      ]
     },
     "execution_count": 148,
     "metadata": {},
     "output_type": "execute_result"
    }
   ],
   "source": [
    "from importlib import reload\n",
    "reload(util)"
   ]
  },
  {
   "cell_type": "code",
   "execution_count": 10,
   "metadata": {},
   "outputs": [],
   "source": [
    "import gsd.hoomd\n",
    "#s = gsd.hoomd.open(name = os.path.join(path, \"trajectory.gsd\"), mode=\"rb\")\n",
    "#s = gsd.hoomd.open(name=\"test_data/new_small_file.gsd\", mode=\"wb\")\n",
    "t = gsd.hoomd.open(name=os.path.join(path,\"trajectory.gsd\"), mode=\"rb\")\n",
    "s = gsd.hoomd.open(name=\"../test_data/small_file.gsd\", mode=\"wb\")\n",
    "s.extend(t[500:600])\n",
    "#s = gsd.hoomd.open(name=\"new_small_file.gsd\", mode=\"rb\")"
   ]
  },
  {
   "cell_type": "code",
   "execution_count": 149,
   "metadata": {},
   "outputs": [],
   "source": [
    "#s = gsd.hoomd.open(name=\"../test_data/new_small_file.gsd\", mode=\"rb\")\n",
    "s = gsd.hoomd.open(name=\"../test_data/small_file.gsd\", mode=\"rb\")"
   ]
  },
  {
   "cell_type": "code",
   "execution_count": 150,
   "metadata": {},
   "outputs": [
    {
     "data": {
      "text/plain": [
       "100"
      ]
     },
     "execution_count": 150,
     "metadata": {},
     "output_type": "execute_result"
    }
   ],
   "source": [
    "len(s)"
   ]
  },
  {
   "cell_type": "code",
   "execution_count": 151,
   "metadata": {},
   "outputs": [
    {
     "name": "stderr",
     "output_type": "stream",
     "text": [
      "/Users/ali/anaconda3/envs/active_nematics/lib/python3.7/site-packages/ipykernel_launcher.py:6: UserWarning: Specifying z-dimensions in a 2-dimensional box has no effect!\n",
      "  \n",
      "./utils/util.py:102: UserWarning: Specifying z-dimensions in a 2-dimensional box has no effect!\n",
      "  self.box = freud.box.Box.from_box(snap.configuration.box, dimensions=2)\n"
     ]
    }
   ],
   "source": [
    "\n",
    "sys.path.append(\"/Volumes/ALI/Postdoc_Project/data_analysis/freud\")\n",
    "import freud\n",
    "\n",
    "snap = s[-1]\n",
    "box = freud.box.Box.from_box(snap.configuration.box, dimensions=2)\n",
    "\n",
    "\n",
    "cell_size = 3\n",
    "r_nlist = 4\n",
    "p_per_cell = 10\n",
    "r_cl = 5\n",
    "min_angle = 70./180.*np.pi\n",
    "slice_no = 8\n",
    "\n",
    "neigh_density = 1.\n",
    "neigh_area = np.pi*(r_nlist**2)\n",
    "count = int(neigh_density * neigh_area)\n",
    "\n",
    "defect = util.defect(snap, cell_size, r_cl, slice_no,min_angle)"
   ]
  },
  {
   "cell_type": "code",
   "execution_count": 152,
   "metadata": {},
   "outputs": [
    {
     "data": {
      "application/vnd.jupyter.widget-view+json": {
       "model_id": "605644d5485e410987fb98c5660aed81",
       "version_major": 2,
       "version_minor": 0
      },
      "text/plain": [
       "HBox(children=(IntProgress(value=0), HTML(value='')))"
      ]
     },
     "metadata": {},
     "output_type": "display_data"
    },
    {
     "name": "stdout",
     "output_type": "stream",
     "text": [
      "\n"
     ]
    }
   ],
   "source": [
    "from tqdm import tqdm_notebook as tqdm\n",
    "folder_name = \"slice_no_{}\".format(slice_no)\n",
    "data_folder = os.path.join(\"../test_data\", folder_name)\n",
    "if not os.path.exists(data_folder):\n",
    "    os.mkdir(data_folder)\n",
    "import numpy as np\n",
    "from xyz import *\n",
    "for i in tqdm(range(len(s))):\n",
    "    snap = s[i]\n",
    "    tags_p, tags_m = defect.snap_find_tags(snap, r_nlist, p_per_cell, count)\n",
    "    fname_p = \"defect_p_{}.xyz\".format(i)\n",
    "    fname_m = \"defect_m_{}.xyz\".format(i)\n",
    "    write_xyz(open(os.path.join(data_folder,fname_p),\"w\"),defect.defect_position(snap,tags_p, 3), \"P\")\n",
    "    write_xyz(open(os.path.join(data_folder,fname_m),\"w\"),defect.defect_position(snap,tags_m, 3), \"M\")"
   ]
  },
  {
   "cell_type": "code",
   "execution_count": 153,
   "metadata": {},
   "outputs": [],
   "source": [
    "import sys\n",
    "sys.path.append(\"utils/\")\n",
    "from track import *\n",
    "from xyz import *\n",
    "import os\n",
    "import glob\n",
    "path_folder = \"../test_data/slice_no_8\"\n",
    "\n",
    "snap_No = int(len(glob.glob(os.path.join(path_folder,\"*.xyz\")))/2)\n",
    "snap_No\n",
    "\n",
    "frames_p = []\n",
    "frames_m = []\n",
    "\n",
    "for i in range(snap_No):\n",
    "    xyz = read_xyz(open(\"../test_data/slice_no_8/defect_p_{}.xyz\".format(i),\"r\"))\n",
    "    frames_p.append(snap_to_trackpy(xyz.coords, i))\n",
    "    xyz = read_xyz(open(\"../test_data/slice_no_8/defect_m_{}.xyz\".format(i),\"r\"))\n",
    "    frames_m.append(snap_to_trackpy(xyz.coords, i))"
   ]
  },
  {
   "cell_type": "code",
   "execution_count": 154,
   "metadata": {},
   "outputs": [
    {
     "data": {
      "text/html": [
       "<div>\n",
       "<style scoped>\n",
       "    .dataframe tbody tr th:only-of-type {\n",
       "        vertical-align: middle;\n",
       "    }\n",
       "\n",
       "    .dataframe tbody tr th {\n",
       "        vertical-align: top;\n",
       "    }\n",
       "\n",
       "    .dataframe thead th {\n",
       "        text-align: right;\n",
       "    }\n",
       "</style>\n",
       "<table border=\"1\" class=\"dataframe\">\n",
       "  <thead>\n",
       "    <tr style=\"text-align: right;\">\n",
       "      <th></th>\n",
       "      <th>x</th>\n",
       "      <th>y</th>\n",
       "      <th>frame</th>\n",
       "    </tr>\n",
       "  </thead>\n",
       "  <tbody>\n",
       "    <tr>\n",
       "      <th>0</th>\n",
       "      <td>-89.959061</td>\n",
       "      <td>12.786400</td>\n",
       "      <td>0</td>\n",
       "    </tr>\n",
       "    <tr>\n",
       "      <th>1</th>\n",
       "      <td>-96.463089</td>\n",
       "      <td>15.621498</td>\n",
       "      <td>0</td>\n",
       "    </tr>\n",
       "    <tr>\n",
       "      <th>2</th>\n",
       "      <td>85.033836</td>\n",
       "      <td>22.532295</td>\n",
       "      <td>0</td>\n",
       "    </tr>\n",
       "    <tr>\n",
       "      <th>3</th>\n",
       "      <td>-65.977715</td>\n",
       "      <td>46.548637</td>\n",
       "      <td>0</td>\n",
       "    </tr>\n",
       "    <tr>\n",
       "      <th>4</th>\n",
       "      <td>-13.490021</td>\n",
       "      <td>45.056572</td>\n",
       "      <td>0</td>\n",
       "    </tr>\n",
       "  </tbody>\n",
       "</table>\n",
       "</div>"
      ],
      "text/plain": [
       "           x          y  frame\n",
       "0 -89.959061  12.786400      0\n",
       "1 -96.463089  15.621498      0\n",
       "2  85.033836  22.532295      0\n",
       "3 -65.977715  46.548637      0\n",
       "4 -13.490021  45.056572      0"
      ]
     },
     "execution_count": 154,
     "metadata": {},
     "output_type": "execute_result"
    }
   ],
   "source": [
    "frames_m[0].head()"
   ]
  },
  {
   "cell_type": "code",
   "execution_count": 155,
   "metadata": {},
   "outputs": [
    {
     "name": "stdout",
     "output_type": "stream",
     "text": [
      "Frame 99: 16 trajectories present.\n"
     ]
    }
   ],
   "source": [
    "import trackpy\n",
    "import pandas\n",
    "tr_p = pandas.concat(trackpy.link_df_iter(frames_p, 5))\n",
    "tr_m = pandas.concat(trackpy.link_df_iter(frames_m, 5))"
   ]
  },
  {
   "cell_type": "code",
   "execution_count": 156,
   "metadata": {},
   "outputs": [
    {
     "data": {
      "image/png": "[encoded data removed]",
      "text/plain": [
       "<Figure size 360x360 with 1 Axes>"
      ]
     },
     "metadata": {
      "needs_background": "light"
     },
     "output_type": "display_data"
    }
   ],
   "source": [
    "import matplotlib.pyplot as plt\n",
    "\n",
    "f, ax = plt.subplots(1,1, figsize=(5,5))\n",
    "trackpy.plot_traj(tr_m,ax=ax)\n",
    "\n",
    "ax.set_ylim([-100,100])\n",
    "ax.axis('equal')\n",
    "plt.savefig('traj_m.png', dpi = 300, bbox_inches='tight')"
   ]
  },
  {
   "cell_type": "code",
   "execution_count": 157,
   "metadata": {},
   "outputs": [],
   "source": [
    "msd_p = trackpy.imsd(tr_p,1,1)"
   ]
  },
  {
   "cell_type": "code",
   "execution_count": 158,
   "metadata": {},
   "outputs": [],
   "source": [
    "msd_m = trackpy.imsd(tr_m,1,1)"
   ]
  },
  {
   "cell_type": "code",
   "execution_count": 159,
   "metadata": {},
   "outputs": [
    {
     "data": {
      "text/plain": [
       "Float64Index([ 1.0,  2.0,  3.0,  4.0,  5.0,  6.0,  7.0,  8.0,  9.0, 10.0, 11.0,\n",
       "              12.0, 13.0, 14.0, 15.0, 16.0, 17.0, 18.0, 19.0, 20.0, 21.0, 22.0,\n",
       "              23.0, 24.0, 25.0, 26.0, 27.0, 28.0, 29.0, 30.0, 31.0, 32.0, 33.0,\n",
       "              34.0, 35.0, 36.0, 37.0, 38.0, 39.0, 40.0, 41.0, 42.0, 43.0, 44.0,\n",
       "              45.0, 46.0, 47.0, 48.0, 49.0, 50.0],\n",
       "             dtype='float64', name='lag time [s]')"
      ]
     },
     "execution_count": 159,
     "metadata": {},
     "output_type": "execute_result"
    }
   ],
   "source": [
    "msd_m.index"
   ]
  },
  {
   "cell_type": "code",
   "execution_count": 160,
   "metadata": {},
   "outputs": [
    {
     "data": {
      "text/plain": [
       "[<matplotlib.lines.Line2D at 0x11eadb128>]"
      ]
     },
     "execution_count": 160,
     "metadata": {},
     "output_type": "execute_result"
    },
    {
     "data": {
      "image/png": "[encoded data removed]",
      "text/plain": [
       "<Figure size 432x288 with 2 Axes>"
      ]
     },
     "metadata": {
      "needs_background": "light"
     },
     "output_type": "display_data"
    }
   ],
   "source": [
    "f, ax = plt.subplots(1,2)\n",
    "ax[0].loglog(msd_p.index, msd_p[1], marker='o')\n",
    "ax[1].loglog(msd_m.index, msd_m[16], marker='o')"
   ]
  },
  {
   "cell_type": "code",
   "execution_count": 161,
   "metadata": {},
   "outputs": [],
   "source": [
    "x = msd_p[1].dropna()\n",
    "x.dropna()\n",
    "t = np.array(x.index).reshape(-1,1)\n",
    "msd = np.array(x.values).reshape(-1,1)"
   ]
  },
  {
   "cell_type": "code",
   "execution_count": 162,
   "metadata": {},
   "outputs": [
    {
     "data": {
      "text/plain": [
       "LinearRegression(copy_X=True, fit_intercept=True, n_jobs=None, normalize=False)"
      ]
     },
     "execution_count": 162,
     "metadata": {},
     "output_type": "execute_result"
    }
   ],
   "source": [
    "from sklearn import linear_model\n",
    "regr = linear_model.LinearRegression()\n",
    "regr.fit(np.log(t),np.log(msd))"
   ]
  },
  {
   "cell_type": "code",
   "execution_count": 163,
   "metadata": {},
   "outputs": [
    {
     "data": {
      "text/plain": [
       "array([[1.74499147]])"
      ]
     },
     "execution_count": 163,
     "metadata": {},
     "output_type": "execute_result"
    }
   ],
   "source": [
    "regr.coef_"
   ]
  },
  {
   "cell_type": "code",
   "execution_count": 164,
   "metadata": {},
   "outputs": [],
   "source": [
    "from sklearn import linear_model\n",
    "import math\n",
    "regr = linear_model.LinearRegression()\n",
    "shortest_traj=5\n",
    "df_p_fit = pd.DataFrame(columns = msd_p.columns, index = ['fit_slope'])\n",
    "for c in msd_p.columns:\n",
    "    if msd_p[c].count()>=shortest_traj:\n",
    "        s = msd_p[c].dropna()\n",
    "        t = np.array(s.index).reshape(-1,1)\n",
    "        msd = np.array(s.values).reshape(-1,1)\n",
    "        regr.fit(np.log(t), np.log(msd))\n",
    "        df_p_fit[c] = float(regr.coef_)"
   ]
  },
  {
   "cell_type": "code",
   "execution_count": 165,
   "metadata": {},
   "outputs": [
    {
     "data": {
      "text/plain": [
       "107"
      ]
     },
     "execution_count": 165,
     "metadata": {},
     "output_type": "execute_result"
    }
   ],
   "source": [
    "df_p_fit.loc['fit_slope'].count()"
   ]
  },
  {
   "cell_type": "code",
   "execution_count": 166,
   "metadata": {},
   "outputs": [],
   "source": [
    "shortest_traj = 5\n",
    "df_m_fit = pd.DataFrame(columns = msd_m.columns, index = ['fit_slope'])\n",
    "for c in msd_m.columns:\n",
    "    if msd_m[c].count()>=shortest_traj:\n",
    "        s = msd_m[c].dropna()\n",
    "        t = np.array(s.index).reshape(-1,1)\n",
    "        msd = np.array(s.values).reshape(-1,1)\n",
    "        regr.fit(np.log(t), np.log(msd))\n",
    "        df_m_fit[c] = float(regr.coef_)"
   ]
  },
  {
   "cell_type": "code",
   "execution_count": 167,
   "metadata": {},
   "outputs": [
    {
     "data": {
      "text/html": [
       "<div>\n",
       "<style scoped>\n",
       "    .dataframe tbody tr th:only-of-type {\n",
       "        vertical-align: middle;\n",
       "    }\n",
       "\n",
       "    .dataframe tbody tr th {\n",
       "        vertical-align: top;\n",
       "    }\n",
       "\n",
       "    .dataframe thead th {\n",
       "        text-align: right;\n",
       "    }\n",
       "</style>\n",
       "<table border=\"1\" class=\"dataframe\">\n",
       "  <thead>\n",
       "    <tr style=\"text-align: right;\">\n",
       "      <th></th>\n",
       "      <th>0</th>\n",
       "      <th>1</th>\n",
       "      <th>3</th>\n",
       "      <th>4</th>\n",
       "      <th>5</th>\n",
       "      <th>7</th>\n",
       "      <th>8</th>\n",
       "      <th>9</th>\n",
       "      <th>10</th>\n",
       "      <th>11</th>\n",
       "      <th>...</th>\n",
       "      <th>455</th>\n",
       "      <th>459</th>\n",
       "      <th>462</th>\n",
       "      <th>464</th>\n",
       "      <th>466</th>\n",
       "      <th>468</th>\n",
       "      <th>469</th>\n",
       "      <th>471</th>\n",
       "      <th>473</th>\n",
       "      <th>477</th>\n",
       "    </tr>\n",
       "  </thead>\n",
       "  <tbody>\n",
       "    <tr>\n",
       "      <th>fit_slope</th>\n",
       "      <td>NaN</td>\n",
       "      <td>1.274667</td>\n",
       "      <td>NaN</td>\n",
       "      <td>NaN</td>\n",
       "      <td>1.361057</td>\n",
       "      <td>0.712562</td>\n",
       "      <td>NaN</td>\n",
       "      <td>0.029314</td>\n",
       "      <td>1.907253</td>\n",
       "      <td>1.178251</td>\n",
       "      <td>...</td>\n",
       "      <td>NaN</td>\n",
       "      <td>NaN</td>\n",
       "      <td>NaN</td>\n",
       "      <td>NaN</td>\n",
       "      <td>NaN</td>\n",
       "      <td>NaN</td>\n",
       "      <td>NaN</td>\n",
       "      <td>NaN</td>\n",
       "      <td>NaN</td>\n",
       "      <td>NaN</td>\n",
       "    </tr>\n",
       "  </tbody>\n",
       "</table>\n",
       "<p>1 rows × 210 columns</p>\n",
       "</div>"
      ],
      "text/plain": [
       "           0         1    3    4         5         7    8         9    \\\n",
       "fit_slope  NaN  1.274667  NaN  NaN  1.361057  0.712562  NaN  0.029314   \n",
       "\n",
       "                10        11  ...   455  459  462  464  466  468  469  471  \\\n",
       "fit_slope  1.907253  1.178251 ...   NaN  NaN  NaN  NaN  NaN  NaN  NaN  NaN   \n",
       "\n",
       "           473  477  \n",
       "fit_slope  NaN  NaN  \n",
       "\n",
       "[1 rows x 210 columns]"
      ]
     },
     "execution_count": 167,
     "metadata": {},
     "output_type": "execute_result"
    }
   ],
   "source": [
    "df_m_fit"
   ]
  },
  {
   "cell_type": "code",
   "execution_count": 168,
   "metadata": {},
   "outputs": [
    {
     "data": {
      "text/plain": [
       "69"
      ]
     },
     "execution_count": 168,
     "metadata": {},
     "output_type": "execute_result"
    }
   ],
   "source": [
    "df_m_fit.loc['fit_slope'].count()"
   ]
  },
  {
   "cell_type": "code",
   "execution_count": 169,
   "metadata": {},
   "outputs": [],
   "source": [
    "x_p = np.array(df_p_fit.loc['fit_slope'].dropna().astype(float).values)\n",
    "x_m = np.array(df_m_fit.loc['fit_slope'].dropna().astype(float).values)"
   ]
  },
  {
   "cell_type": "code",
   "execution_count": 170,
   "metadata": {},
   "outputs": [
    {
     "data": {
      "text/plain": [
       "array([ 0.45543499,  1.74499147,  1.66035149,  1.25672668,  0.73471017,\n",
       "        1.7305905 ,  1.37654545,  0.2968696 ,  1.36539796,  1.23327937,\n",
       "        1.20507745,  1.07546238,  0.8747785 ,  0.32489829,  0.80051434,\n",
       "        1.69666986,  1.06339429,  1.67895888,  1.31783003,  1.40625094,\n",
       "        0.78675796, -0.10768989,  1.01551726,  1.28956549,  0.7125302 ,\n",
       "        0.8632452 ,  1.52567023,  0.78638671,  0.8671382 ,  1.4235793 ,\n",
       "        1.6908786 ,  0.88046279,  0.31393906,  1.05373528,  0.72718419,\n",
       "       -0.99055158,  0.99742495,  1.74222665,  0.35655378,  1.83287799,\n",
       "        0.25974799,  1.14396542,  1.35912544,  0.59359192,  0.82617263,\n",
       "        0.54916133,  1.55381811,  0.77696437,  1.23522256,  0.59698075,\n",
       "        1.03817183,  1.93657226,  0.33602117,  0.41934415,  1.85174369,\n",
       "        1.86414875, -0.0294021 ,  0.88788638,  0.99500897,  1.75995956,\n",
       "        1.45467514,  1.56141349,  1.63818314,  0.46907954,  0.96790051,\n",
       "        1.39277241,  1.36357118,  1.13367332,  0.86419646,  1.29425178,\n",
       "        0.18091323,  1.38603155,  1.90885584,  1.06382938,  1.27162507,\n",
       "        0.60217505,  1.04679686,  1.60387621,  0.88553063,  1.22139895,\n",
       "        0.25506604,  1.48708683,  0.8092294 ,  1.68741755,  1.63128656,\n",
       "        1.02820187,  1.39883239, -0.54680831,  0.77062993, -0.06648168,\n",
       "        1.5876642 ,  1.43004679,  1.5507203 ,  0.57508226,  1.03420931,\n",
       "        0.64095808,  0.58998681,  0.41059489,  1.17768804,  1.5473656 ,\n",
       "       -0.06657458, -0.12276943,  1.213474  ,  1.23660964,  1.19174954,\n",
       "        1.73905435,  0.31464799])"
      ]
     },
     "execution_count": 170,
     "metadata": {},
     "output_type": "execute_result"
    }
   ],
   "source": [
    "x_p"
   ]
  },
  {
   "cell_type": "code",
   "execution_count": 171,
   "metadata": {},
   "outputs": [
    {
     "data": {
      "image/png": "[encoded data removed]",
      "text/plain": [
       "<Figure size 432x288 with 2 Axes>"
      ]
     },
     "metadata": {
      "needs_background": "light"
     },
     "output_type": "display_data"
    }
   ],
   "source": [
    "f, ax = plt.subplots(1,2)\n",
    "ax[0].hist(x_p, bins=10, histtype='bar', density=True)\n",
    "ax[1].hist(x_m, bins=10, histtype='bar', density=True)\n",
    "#ax.set_ylim([0,20])\n",
    "#df_m_fit.loc['fit_slope'].hist(ax=ax[1], grid=False)\n",
    "plt.show()"
   ]
  },
  {
   "cell_type": "code",
   "execution_count": 74,
   "metadata": {},
   "outputs": [
    {
     "data": {
      "text/plain": [
       "1.9768237828964281"
      ]
     },
     "execution_count": 74,
     "metadata": {},
     "output_type": "execute_result"
    }
   ],
   "source": [
    "max(x_p)"
   ]
  },
  {
   "cell_type": "code",
   "execution_count": 82,
   "metadata": {},
   "outputs": [],
   "source": [
    "y = np.random.randn(50)"
   ]
  },
  {
   "cell_type": "code",
   "execution_count": 86,
   "metadata": {},
   "outputs": [
    {
     "data": {
      "text/plain": [
       "(array([ 4.,  3.,  4.,  6.,  3.,  6.,  8., 10.,  3.,  3.]),\n",
       " array([-2.18377656, -1.78963815, -1.39549974, -1.00136133, -0.60722291,\n",
       "        -0.2130845 ,  0.18105391,  0.57519232,  0.96933074,  1.36346915,\n",
       "         1.75760756]),\n",
       " <a list of 10 Patch objects>)"
      ]
     },
     "execution_count": 86,
     "metadata": {},
     "output_type": "execute_result"
    },
    {
     "data": {
      "image/png": "[encoded data removed]",
      "text/plain": [
       "<Figure size 432x288 with 1 Axes>"
      ]
     },
     "metadata": {
      "needs_background": "light"
     },
     "output_type": "display_data"
    }
   ],
   "source": [
    "plt.hist(y, bins=10)"
   ]
  }
 ],
 "metadata": {
  "kernelspec": {
   "display_name": "Python 3",
   "language": "python",
   "name": "python3"
  },
  "language_info": {
   "codemirror_mode": {
    "name": "ipython",
    "version": 3
   },
   "file_extension": ".py",
   "mimetype": "text/x-python",
   "name": "python",
   "nbconvert_exporter": "python",
   "pygments_lexer": "ipython3",
   "version": "3.7.3"
  }
 },
 "nbformat": 4,
 "nbformat_minor": 2
}
